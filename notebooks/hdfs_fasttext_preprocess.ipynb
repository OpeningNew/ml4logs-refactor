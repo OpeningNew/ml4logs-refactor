{
 "metadata": {
  "language_info": {
   "codemirror_mode": {
    "name": "ipython",
    "version": 3
   },
   "file_extension": ".py",
   "mimetype": "text/x-python",
   "name": "python",
   "nbconvert_exporter": "python",
   "pygments_lexer": "ipython3",
   "version": "3.8.5-final"
  },
  "orig_nbformat": 2,
  "kernelspec": {
   "name": "python3",
   "display_name": "Python 3"
  }
 },
 "nbformat": 4,
 "nbformat_minor": 2,
 "cells": [
  {
   "cell_type": "code",
   "execution_count": null,
   "metadata": {},
   "outputs": [],
   "source": [
    "import os\n",
    "import pathlib\n",
    "import re\n",
    "import functools as ftools\n",
    "import time\n",
    "\n",
    "import numpy as np\n",
    "import pandas as pd\n",
    "import fasttext"
   ]
  },
  {
   "cell_type": "code",
   "execution_count": null,
   "metadata": {},
   "outputs": [],
   "source": [
    "PROJECT_DIR = pathlib.Path(os.getenv('PROJECT_DIR', default=pathlib.Path.home() / 'ml4logs'))\n",
    "FASTTEXT_PATHS = {\n",
    "    'hdfs_1':  PROJECT_DIR / 'models/embeddings/fasttext-skipgram-hdfs_1.bin',\n",
    "    'hdfs_2':  PROJECT_DIR / 'models/embeddings/fasttext-skipgram-hdfs_2.bin',\n",
    "    'hdfs_12': PROJECT_DIR / 'models/embeddings/fasttext-skipgram-hdfs_12.bin'\n",
    "}\n",
    "HDFS_PATH = PROJECT_DIR / 'data/raw/HDFS_1.log'\n",
    "LABEL_PATH = PROJECT_DIR / 'data/raw/HDFS_1_label.csv'\n",
    "\n",
    "DIM_EMBEDDING = 100\n",
    "\n",
    "assert(HDFS_PATH.exists() and HDFS_PATH.is_file())\n",
    "assert(LABEL_PATH.exists() and LABEL_PATH.is_file())\n",
    "for _, path in FASTTEXT_PATHS.items():\n",
    "    assert(path.exists() and path.is_file())"
   ]
  },
  {
   "source": [
    "## Load raw logs and labels"
   ],
   "cell_type": "markdown",
   "metadata": {}
  },
  {
   "cell_type": "code",
   "execution_count": null,
   "metadata": {},
   "outputs": [],
   "source": [
    "logs = HDFS_PATH.read_text().strip().split('\\n')"
   ]
  },
  {
   "cell_type": "code",
   "execution_count": null,
   "metadata": {},
   "outputs": [],
   "source": [
    "labels = pd.read_csv(LABEL_PATH).set_index('BlockId')\n",
    "labels['Label'] = labels['Label'].map({'Normal': 0, 'Anomaly': 1})"
   ]
  },
  {
   "source": [
    "## Find blocks in each log message"
   ],
   "cell_type": "markdown",
   "metadata": {}
  },
  {
   "cell_type": "code",
   "execution_count": null,
   "metadata": {},
   "outputs": [],
   "source": [
    "blocks = tuple(map(ftools.partial(re.findall, r'(blk_-?\\d+)'), logs))"
   ]
  },
  {
   "source": [
    "## Process for each fasttext model and for each merge method"
   ],
   "cell_type": "markdown",
   "metadata": {}
  },
  {
   "cell_type": "code",
   "execution_count": null,
   "metadata": {},
   "outputs": [],
   "source": [
    "def sum_per_block(embeddings, blocks):\n",
    "    result = {}\n",
    "    for i in range(len(embeddings)):\n",
    "        for bid in blocks[i]:\n",
    "            result[bid] = result.get(bid, np.zeros(DIM_EMBEDDING)) + embeddings[i]\n",
    "    return result\n",
    "\n",
    "def average_per_block(embeddings, blocks):\n",
    "    result = {}\n",
    "    counter = {}\n",
    "    for i in range(len(embeddings)):\n",
    "        for bid in blocks[i]:\n",
    "            result[bid] = result.get(bid, np.zeros(DIM_EMBEDDING)) + embeddings[i]\n",
    "            counter[bid] = counter.get(bid, 0) + 1\n",
    "    for bid in counter:\n",
    "        result[bid] /= counter[bid]\n",
    "    return result\n",
    "\n",
    "def max_per_block(embeddings, blocks):\n",
    "    result = {}\n",
    "    for i in range(len(embeddings)):\n",
    "        for bid in blocks[i]:\n",
    "            result[bid] = np.fmax(result.get(bid, embeddings[i]), embeddings[i])\n",
    "    return result\n",
    "\n",
    "def min_per_block(embeddings, blocks):\n",
    "    result = {}\n",
    "    for i in range(len(embeddings)):\n",
    "        for bid in blocks[i]:\n",
    "            result[bid] = np.fmin(result.get(bid, embeddings[i]), embeddings[i])\n",
    "    return result\n",
    "\n",
    "merge_methods = {\n",
    "    'sum': sum_per_block,\n",
    "    'average': average_per_block,\n",
    "    'max': max_per_block,\n",
    "    'min': min_per_block\n",
    "}"
   ]
  },
  {
   "cell_type": "code",
   "execution_count": null,
   "metadata": {},
   "outputs": [],
   "source": [
    "for fname, fasttext_path in FASTTEXT_PATHS.items():\n",
    "    started_time = time.time()\n",
    "    display('Processing {}'.format(fname))\n",
    "    model = fasttext.load_model(str(fasttext_path))\n",
    "    embeddings = np.stack(tuple(map(model.get_sentence_vector, logs)))\n",
    "    for mname, f in merge_methods.items():\n",
    "        display('---- Subprocessing {}'.format(mname))\n",
    "        embeddings_per_block = f(embeddings, blocks)\n",
    "        blks, X = tuple(zip(*embeddings_per_block.items()))\n",
    "        Y = labels.loc[list(blks)]['Label'].to_numpy()\n",
    "        save_fname = f'{fname}-fasttext-{mname}.npz'\n",
    "        np.savez(PROJECT_DIR / 'data/processed' / save_fname, X=np.stack(X), Y=Y)\n",
    "    display('Time elapsed: {:.2f}'.format(time.time() - started_time))"
   ]
  },
  {
   "cell_type": "code",
   "execution_count": null,
   "metadata": {},
   "outputs": [],
   "source": []
  }
 ]
}